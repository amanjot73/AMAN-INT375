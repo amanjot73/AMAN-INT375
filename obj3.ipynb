{
 "cells": [
  {
   "cell_type": "code",
   "execution_count": null,
   "id": "164bb945",
   "metadata": {},
   "outputs": [],
   "source": [
    "# this is for  Wind Speed Analysis\n",
    "import pandas as pd\n",
    "import numpy as np\n",
    "import matplotlib.pyplot as plt\n",
    "import seaborn as sns\n",
    "\n",
    "# Load the dataset\n",
    "df = pd.read_excel('my new datsset.xlsx')\n",
    "# Create datetime column\n",
    "df['date'] = pd.to_datetime(df[['year', 'month', 'day']])\n",
    "# Wind Speed Analysis Code\n",
    "def analyze_wind_patterns():\n",
    "    plt.figure(figsize=(12, 6))\n",
    "    \n",
    "    # Wind speed trends\n",
    "    sns.lineplot(data=df, x='date', \n",
    "                y='wind_speed_10m', \n",
    "                hue='city')\n",
    "    \n",
    "    plt.title('Wind Speed Trends Over Time', fontsize=14)\n",
    "    plt.xlabel('Date', fontsize=12)\n",
    "    plt.ylabel('Wind Speed (m/s)', fontsize=12)\n",
    "    plt.xticks(rotation=45)\n",
    "    plt.grid(True)\n",
    "    plt.tight_layout()\n",
    "    plt.show()\n",
    "    \n",
    "    # Wind speed distribution\n",
    "    plt.figure(figsize=(10, 6))\n",
    "    sns.histplot(data=df, x='wind_speed_10m', \n",
    "                hue='city', multiple=\"stack\")\n",
    "    plt.title('Wind Speed Distribution by City')\n",
    "    plt.xlabel('Wind Speed (m/s)')\n",
    "    plt.ylabel('Count')\n",
    "    plt.show()\n",
    "\n",
    "analyze_wind_patterns()\n"
   ]
  }
 ],
 "metadata": {
  "language_info": {
   "name": "python"
  }
 },
 "nbformat": 4,
 "nbformat_minor": 5
}
