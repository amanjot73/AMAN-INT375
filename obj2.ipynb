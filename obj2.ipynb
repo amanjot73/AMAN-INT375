{
 "cells": [
  {
   "cell_type": "code",
   "execution_count": null,
   "id": "168e8a54",
   "metadata": {},
   "outputs": [],
   "source": [
    "import pandas as pd\n",
    "import numpy as np\n",
    "import matplotlib.pyplot as plt\n",
    "import seaborn as sns\n",
    "\n",
    "# Load the dataset\n",
    "df = pd.read_excel('my new datsset.xlsx')\n",
    "# Create datetime column\n",
    "df['date'] = pd.to_datetime(df[['year', 'month', 'day']])\n",
    "# Humidity Analysis Code\n",
    "def analyze_humidity_levels():\n",
    "    plt.figure(figsize=(12, 6))\n",
    "    \n",
    "    # Humidity trends over time\n",
    "    sns.lineplot(data=df, x='date', \n",
    "                y='relative_humidity_percent', \n",
    "                hue='city')\n",
    "    \n",
    "    plt.title('Humidity Trends Over Time', fontsize=14)\n",
    "    plt.xlabel('Date', fontsize=12)\n",
    "    plt.ylabel('Relative Humidity (%)', fontsize=12)\n",
    "    plt.xticks(rotation=45)\n",
    "    plt.grid(True)\n",
    "    plt.tight_layout()\n",
    "    plt.show()\n",
    "    \n",
    "    # Correlation between humidity and temperature\n",
    "    plt.figure(figsize=(8, 6))\n",
    "    sns.scatterplot(data=df, \n",
    "                    x='temperature_celsius', \n",
    "                    y='relative_humidity_percent', \n",
    "                    hue='city')\n",
    "    plt.title('Temperature vs Humidity Correlation')\n",
    "    plt.xlabel('Temperature (°C)')\n",
    "    plt.ylabel('Relative Humidity (%)')\n",
    "    plt.show()\n",
    "\n",
    "analyze_humidity_levels()\n"
   ]
  }
 ],
 "metadata": {
  "language_info": {
   "name": "python"
  }
 },
 "nbformat": 4,
 "nbformat_minor": 5
}
