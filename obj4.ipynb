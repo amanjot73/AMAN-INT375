{
 "cells": [
  {
   "cell_type": "code",
   "execution_count": null,
   "id": "ed5ba74d",
   "metadata": {},
   "outputs": [],
   "source": [
    "# this is for Rain Forecast Tracking\n",
    "import pandas as pd\n",
    "import numpy as np\n",
    "import matplotlib.pyplot as plt\n",
    "import seaborn as sns\n",
    "\n",
    "# Load the dataset\n",
    "df = pd.read_excel('my new datsset.xlsx')\n",
    "# Create datetime column\n",
    "df['date'] = pd.to_datetime(df[['year', 'month', 'day']])\n",
    "# Rain Analysis Code\n",
    "def analyze_rainfall():\n",
    "    plt.figure(figsize=(12, 6))\n",
    "    \n",
    "    # Daily precipitation\n",
    "    sns.lineplot(data=df, x='date', \n",
    "                y='precipitation', \n",
    "                hue='city')\n",
    "    \n",
    "    plt.title('Precipitation Over Time', fontsize=14)\n",
    "    plt.xlabel('Date', fontsize=12)\n",
    "    plt.ylabel('Precipitation (mm)', fontsize=12)\n",
    "    plt.xticks(rotation=45)\n",
    "    plt.grid(True)\n",
    "    plt.tight_layout()\n",
    "    plt.show()\n",
    "    \n",
    "    # Monthly rainfall patterns\n",
    "    monthly_rain = df.groupby(['city', df['date'].dt.month])['precipitation'].mean().reset_index()\n",
    "    \n",
    "    plt.figure(figsize=(10, 6))\n",
    "    sns.barplot(data=monthly_rain, x='date', \n",
    "                y='precipitation', hue='city')\n",
    "    plt.title('Average Monthly Precipitation by City')\n",
    "    plt.xlabel('Month')\n",
    "    plt.ylabel('Average Precipitation (mm)')\n",
    "    plt.show()\n",
    "\n",
    "analyze_rainfall()\n",
    "\n"
   ]
  }
 ],
 "metadata": {
  "language_info": {
   "name": "python"
  }
 },
 "nbformat": 4,
 "nbformat_minor": 5
}
